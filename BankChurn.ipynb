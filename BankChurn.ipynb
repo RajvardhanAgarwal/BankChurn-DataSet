{
  "cells": [
    {
      "cell_type": "markdown",
      "metadata": {
        "id": "wnvNBMrPy71X"
      },
      "source": [
        "**BOOTCAMP NOTEBOOK**"
      ]
    },
    {
      "cell_type": "code",
      "execution_count": 188,
      "metadata": {
        "id": "uNCX7Y-Oy50g"
      },
      "outputs": [],
      "source": [
        "import numpy as np\n",
        "import pandas as pd\n",
        "import matplotlib.pyplot as plt\n",
        "import seaborn as sns"
      ]
    },
    {
      "cell_type": "code",
      "execution_count": 189,
      "metadata": {
        "id": "8_OUtYpJ0FY7"
      },
      "outputs": [],
      "source": [
        "df = pd.read_csv('train.csv')"
      ]
    },
    {
      "cell_type": "code",
      "execution_count": 190,
      "metadata": {
        "colab": {
          "base_uri": "https://localhost:8080/",
          "height": 226
        },
        "id": "xwGk2Ec10FVk",
        "outputId": "baa667c0-eafd-4a5a-962c-022622b557ba"
      },
      "outputs": [
        {
          "data": {
            "text/html": [
              "<div>\n",
              "<style scoped>\n",
              "    .dataframe tbody tr th:only-of-type {\n",
              "        vertical-align: middle;\n",
              "    }\n",
              "\n",
              "    .dataframe tbody tr th {\n",
              "        vertical-align: top;\n",
              "    }\n",
              "\n",
              "    .dataframe thead th {\n",
              "        text-align: right;\n",
              "    }\n",
              "</style>\n",
              "<table border=\"1\" class=\"dataframe\">\n",
              "  <thead>\n",
              "    <tr style=\"text-align: right;\">\n",
              "      <th></th>\n",
              "      <th>id</th>\n",
              "      <th>CustomerId</th>\n",
              "      <th>Surname</th>\n",
              "      <th>CreditScore</th>\n",
              "      <th>Geography</th>\n",
              "      <th>Gender</th>\n",
              "      <th>Age</th>\n",
              "      <th>Tenure</th>\n",
              "      <th>Balance</th>\n",
              "      <th>NumOfProducts</th>\n",
              "      <th>HasCrCard</th>\n",
              "      <th>IsActiveMember</th>\n",
              "      <th>EstimatedSalary</th>\n",
              "      <th>Exited</th>\n",
              "    </tr>\n",
              "  </thead>\n",
              "  <tbody>\n",
              "    <tr>\n",
              "      <th>0</th>\n",
              "      <td>0</td>\n",
              "      <td>15674932</td>\n",
              "      <td>Okwudilichukwu</td>\n",
              "      <td>668</td>\n",
              "      <td>France</td>\n",
              "      <td>Male</td>\n",
              "      <td>33.0</td>\n",
              "      <td>3</td>\n",
              "      <td>0.00</td>\n",
              "      <td>2</td>\n",
              "      <td>1.0</td>\n",
              "      <td>0.0</td>\n",
              "      <td>181449.97</td>\n",
              "      <td>0</td>\n",
              "    </tr>\n",
              "    <tr>\n",
              "      <th>1</th>\n",
              "      <td>1</td>\n",
              "      <td>15749177</td>\n",
              "      <td>Okwudiliolisa</td>\n",
              "      <td>627</td>\n",
              "      <td>France</td>\n",
              "      <td>Male</td>\n",
              "      <td>33.0</td>\n",
              "      <td>1</td>\n",
              "      <td>0.00</td>\n",
              "      <td>2</td>\n",
              "      <td>1.0</td>\n",
              "      <td>1.0</td>\n",
              "      <td>49503.50</td>\n",
              "      <td>0</td>\n",
              "    </tr>\n",
              "    <tr>\n",
              "      <th>2</th>\n",
              "      <td>2</td>\n",
              "      <td>15694510</td>\n",
              "      <td>Hsueh</td>\n",
              "      <td>678</td>\n",
              "      <td>France</td>\n",
              "      <td>Male</td>\n",
              "      <td>40.0</td>\n",
              "      <td>10</td>\n",
              "      <td>0.00</td>\n",
              "      <td>2</td>\n",
              "      <td>1.0</td>\n",
              "      <td>0.0</td>\n",
              "      <td>184866.69</td>\n",
              "      <td>0</td>\n",
              "    </tr>\n",
              "    <tr>\n",
              "      <th>3</th>\n",
              "      <td>3</td>\n",
              "      <td>15741417</td>\n",
              "      <td>Kao</td>\n",
              "      <td>581</td>\n",
              "      <td>France</td>\n",
              "      <td>Male</td>\n",
              "      <td>34.0</td>\n",
              "      <td>2</td>\n",
              "      <td>148882.54</td>\n",
              "      <td>1</td>\n",
              "      <td>1.0</td>\n",
              "      <td>1.0</td>\n",
              "      <td>84560.88</td>\n",
              "      <td>0</td>\n",
              "    </tr>\n",
              "    <tr>\n",
              "      <th>4</th>\n",
              "      <td>4</td>\n",
              "      <td>15766172</td>\n",
              "      <td>Chiemenam</td>\n",
              "      <td>716</td>\n",
              "      <td>Spain</td>\n",
              "      <td>Male</td>\n",
              "      <td>33.0</td>\n",
              "      <td>5</td>\n",
              "      <td>0.00</td>\n",
              "      <td>2</td>\n",
              "      <td>1.0</td>\n",
              "      <td>1.0</td>\n",
              "      <td>15068.83</td>\n",
              "      <td>0</td>\n",
              "    </tr>\n",
              "  </tbody>\n",
              "</table>\n",
              "</div>"
            ],
            "text/plain": [
              "   id  CustomerId         Surname  CreditScore Geography Gender   Age  Tenure  \\\n",
              "0   0    15674932  Okwudilichukwu          668    France   Male  33.0       3   \n",
              "1   1    15749177   Okwudiliolisa          627    France   Male  33.0       1   \n",
              "2   2    15694510           Hsueh          678    France   Male  40.0      10   \n",
              "3   3    15741417             Kao          581    France   Male  34.0       2   \n",
              "4   4    15766172       Chiemenam          716     Spain   Male  33.0       5   \n",
              "\n",
              "     Balance  NumOfProducts  HasCrCard  IsActiveMember  EstimatedSalary  \\\n",
              "0       0.00              2        1.0             0.0        181449.97   \n",
              "1       0.00              2        1.0             1.0         49503.50   \n",
              "2       0.00              2        1.0             0.0        184866.69   \n",
              "3  148882.54              1        1.0             1.0         84560.88   \n",
              "4       0.00              2        1.0             1.0         15068.83   \n",
              "\n",
              "   Exited  \n",
              "0       0  \n",
              "1       0  \n",
              "2       0  \n",
              "3       0  \n",
              "4       0  "
            ]
          },
          "execution_count": 190,
          "metadata": {},
          "output_type": "execute_result"
        }
      ],
      "source": [
        "df.head()"
      ]
    },
    {
      "cell_type": "code",
      "execution_count": 191,
      "metadata": {
        "colab": {
          "base_uri": "https://localhost:8080/"
        },
        "id": "LJzhDcHg0dnO",
        "outputId": "696dfe8f-4311-418b-84c7-be7a6e5e304c"
      },
      "outputs": [
        {
          "data": {
            "text/plain": [
              "(165034, 14)"
            ]
          },
          "execution_count": 191,
          "metadata": {},
          "output_type": "execute_result"
        }
      ],
      "source": [
        "df.shape"
      ]
    },
    {
      "cell_type": "markdown",
      "metadata": {
        "id": "6GLTACAy1tgj"
      },
      "source": [
        "The given dataset has 165034 rows and 14 columns"
      ]
    },
    {
      "cell_type": "code",
      "execution_count": 192,
      "metadata": {
        "colab": {
          "base_uri": "https://localhost:8080/"
        },
        "id": "EptJ8i3G1xzS",
        "outputId": "b1d9a1fb-498f-4d9a-e070-06ef0b7e7767"
      },
      "outputs": [
        {
          "data": {
            "text/plain": [
              "Index(['id', 'CustomerId', 'Surname', 'CreditScore', 'Geography', 'Gender',\n",
              "       'Age', 'Tenure', 'Balance', 'NumOfProducts', 'HasCrCard',\n",
              "       'IsActiveMember', 'EstimatedSalary', 'Exited'],\n",
              "      dtype='object')"
            ]
          },
          "execution_count": 192,
          "metadata": {},
          "output_type": "execute_result"
        }
      ],
      "source": [
        "df.columns"
      ]
    },
    {
      "cell_type": "code",
      "execution_count": 193,
      "metadata": {
        "colab": {
          "base_uri": "https://localhost:8080/"
        },
        "id": "2gtWVIDA1xvz",
        "outputId": "14e83338-fe3a-45ef-b4e7-de22cf4df377"
      },
      "outputs": [
        {
          "data": {
            "text/plain": [
              "id                   int64\n",
              "CustomerId           int64\n",
              "Surname             object\n",
              "CreditScore          int64\n",
              "Geography           object\n",
              "Gender              object\n",
              "Age                float64\n",
              "Tenure               int64\n",
              "Balance            float64\n",
              "NumOfProducts        int64\n",
              "HasCrCard          float64\n",
              "IsActiveMember     float64\n",
              "EstimatedSalary    float64\n",
              "Exited               int64\n",
              "dtype: object"
            ]
          },
          "execution_count": 193,
          "metadata": {},
          "output_type": "execute_result"
        }
      ],
      "source": [
        "df.dtypes"
      ]
    },
    {
      "cell_type": "code",
      "execution_count": 194,
      "metadata": {
        "colab": {
          "base_uri": "https://localhost:8080/"
        },
        "id": "YEcZVbFT1xqQ",
        "outputId": "3919ef92-4d18-43b8-d9cf-acfde259ef87"
      },
      "outputs": [
        {
          "data": {
            "text/plain": [
              "0         33.0\n",
              "1         33.0\n",
              "2         40.0\n",
              "3         34.0\n",
              "4         33.0\n",
              "          ... \n",
              "165029    33.0\n",
              "165030    35.0\n",
              "165031    31.0\n",
              "165032    30.0\n",
              "165033    31.0\n",
              "Name: Age, Length: 165034, dtype: float64"
            ]
          },
          "execution_count": 194,
          "metadata": {},
          "output_type": "execute_result"
        }
      ],
      "source": [
        "df['Age']"
      ]
    },
    {
      "cell_type": "code",
      "execution_count": 195,
      "metadata": {
        "id": "ZvEmCFow1xng"
      },
      "outputs": [],
      "source": [
        "df['Age'] = df['Age'].astype('int64')"
      ]
    },
    {
      "cell_type": "markdown",
      "metadata": {
        "id": "n_0plQzk7ZsX"
      },
      "source": [
        "converted Age from type float to int\n"
      ]
    },
    {
      "cell_type": "code",
      "execution_count": 196,
      "metadata": {
        "colab": {
          "base_uri": "https://localhost:8080/"
        },
        "id": "lTzQK9-n1xkc",
        "outputId": "dbd36034-6a26-4371-e113-2ead54c358b3"
      },
      "outputs": [
        {
          "data": {
            "text/plain": [
              "0              0.00\n",
              "1              0.00\n",
              "2              0.00\n",
              "3         148882.54\n",
              "4              0.00\n",
              "            ...    \n",
              "165029         0.00\n",
              "165030         0.00\n",
              "165031         0.00\n",
              "165032    161533.00\n",
              "165033         0.00\n",
              "Name: Balance, Length: 165034, dtype: float64"
            ]
          },
          "execution_count": 196,
          "metadata": {},
          "output_type": "execute_result"
        }
      ],
      "source": [
        "df['Balance']"
      ]
    },
    {
      "cell_type": "code",
      "execution_count": 197,
      "metadata": {
        "colab": {
          "base_uri": "https://localhost:8080/"
        },
        "id": "yXzg5hZ07na9",
        "outputId": "1a941072-0431-4d1c-f55d-ff76dfe49061"
      },
      "outputs": [
        {
          "name": "stdout",
          "output_type": "stream",
          "text": [
            "zeroval = 89648\n",
            "nonzeroval 75386\n"
          ]
        }
      ],
      "source": [
        "zeroval=(df['Balance']==0).sum()\n",
        "print(\"zeroval =\",zeroval)\n",
        "nonzeroval=(df['Balance']!=0).sum()\n",
        "print(\"nonzeroval\",nonzeroval)"
      ]
    },
    {
      "cell_type": "markdown",
      "metadata": {
        "id": "f-Y9iCbh8AYF"
      },
      "source": [
        "89648 people have zero balance accounts\n",
        "\n"
      ]
    },
    {
      "cell_type": "code",
      "execution_count": 198,
      "metadata": {
        "colab": {
          "base_uri": "https://localhost:8080/"
        },
        "id": "tixuVCcn75yH",
        "outputId": "bacb1ed2-51e3-4c1d-aa15-1a5d271e0a1c"
      },
      "outputs": [
        {
          "data": {
            "text/plain": [
              "2"
            ]
          },
          "execution_count": 198,
          "metadata": {},
          "output_type": "execute_result"
        }
      ],
      "source": [
        "df['HasCrCard'].nunique()"
      ]
    },
    {
      "cell_type": "code",
      "execution_count": 199,
      "metadata": {
        "id": "U10S_atB8XHs"
      },
      "outputs": [],
      "source": [
        "df['HasCrCard'] = df['HasCrCard'].astype('int64')"
      ]
    },
    {
      "cell_type": "code",
      "execution_count": 200,
      "metadata": {
        "colab": {
          "base_uri": "https://localhost:8080/"
        },
        "id": "50_TGtA88fYt",
        "outputId": "8acd412c-9ddf-4a2b-f271-8b7c3e2ca40f"
      },
      "outputs": [
        {
          "name": "stdout",
          "output_type": "stream",
          "text": [
            "Has credit card = 124428\n",
            "no credit card 40606\n"
          ]
        }
      ],
      "source": [
        "HasCrCard=(df['HasCrCard']==1).sum()\n",
        "print(\"Has credit card =\",HasCrCard)\n",
        "nonHasCrCard=(df['HasCrCard']!=1).sum()\n",
        "print(\"no credit card\",nonHasCrCard)"
      ]
    },
    {
      "cell_type": "markdown",
      "metadata": {
        "id": "LQe5N2gw8mGW"
      },
      "source": [
        "124428 people have credit cards and 40606 people don't have credit cards. This also proves it is a categorical column"
      ]
    },
    {
      "cell_type": "code",
      "execution_count": 201,
      "metadata": {
        "id": "wd0T-Tcf8kmV"
      },
      "outputs": [],
      "source": [
        "df['IsActiveMember']= df['IsActiveMember'].astype('int64')"
      ]
    },
    {
      "cell_type": "code",
      "execution_count": 202,
      "metadata": {
        "colab": {
          "base_uri": "https://localhost:8080/"
        },
        "id": "yJIDdneO820w",
        "outputId": "53d7cc75-d29d-4376-8ccf-c2913dfc3e83"
      },
      "outputs": [
        {
          "data": {
            "text/plain": [
              "0         0\n",
              "1         1\n",
              "2         0\n",
              "3         1\n",
              "4         1\n",
              "         ..\n",
              "165029    1\n",
              "165030    0\n",
              "165031    1\n",
              "165032    1\n",
              "165033    0\n",
              "Name: IsActiveMember, Length: 165034, dtype: int64"
            ]
          },
          "execution_count": 202,
          "metadata": {},
          "output_type": "execute_result"
        }
      ],
      "source": [
        "df['IsActiveMember']"
      ]
    },
    {
      "cell_type": "code",
      "execution_count": 203,
      "metadata": {
        "colab": {
          "base_uri": "https://localhost:8080/"
        },
        "id": "ETwvvx2D88E2",
        "outputId": "df50d0cf-0bbc-4a54-8126-2c6a735fe5ea"
      },
      "outputs": [
        {
          "data": {
            "text/plain": [
              "2"
            ]
          },
          "execution_count": 203,
          "metadata": {},
          "output_type": "execute_result"
        }
      ],
      "source": [
        "df['IsActiveMember'].nunique()"
      ]
    },
    {
      "cell_type": "code",
      "execution_count": 204,
      "metadata": {
        "colab": {
          "base_uri": "https://localhost:8080/"
        },
        "id": "u0eznich9dWi",
        "outputId": "ecc1039b-bf90-484f-951d-83b9bae2ceb4"
      },
      "outputs": [
        {
          "name": "stdout",
          "output_type": "stream",
          "text": [
            "Is Active Member = 82149\n",
            "Is Not Active Member = 82885\n"
          ]
        }
      ],
      "source": [
        "IsActiveMember=(df['IsActiveMember']==1).sum()\n",
        "print(\"Is Active Member =\",IsActiveMember)\n",
        "nonIsActiveMember=(df['IsActiveMember']!=1).sum()\n",
        "print(\"Is Not Active Member =\",nonIsActiveMember)"
      ]
    },
    {
      "cell_type": "markdown",
      "metadata": {
        "id": "iSP-jTiE9nyv"
      },
      "source": [
        "82149 people are active members whereas others(82885) are not active"
      ]
    },
    {
      "cell_type": "code",
      "execution_count": 205,
      "metadata": {
        "colab": {
          "base_uri": "https://localhost:8080/"
        },
        "id": "QQsOkbfD9jZz",
        "outputId": "097fa749-785e-4527-8e32-20205fa34fdd"
      },
      "outputs": [
        {
          "data": {
            "text/plain": [
              "0         France\n",
              "1         France\n",
              "2         France\n",
              "3         France\n",
              "4          Spain\n",
              "           ...  \n",
              "165029     Spain\n",
              "165030    France\n",
              "165031    France\n",
              "165032     Spain\n",
              "165033    France\n",
              "Name: Geography, Length: 165034, dtype: object"
            ]
          },
          "execution_count": 205,
          "metadata": {},
          "output_type": "execute_result"
        }
      ],
      "source": [
        "df['Geography']"
      ]
    },
    {
      "cell_type": "code",
      "execution_count": 206,
      "metadata": {
        "colab": {
          "base_uri": "https://localhost:8080/"
        },
        "id": "IXx5HjHK9unx",
        "outputId": "beaad813-afdd-4c09-d6a5-b2b4aa86a3a3"
      },
      "outputs": [
        {
          "data": {
            "text/plain": [
              "3"
            ]
          },
          "execution_count": 206,
          "metadata": {},
          "output_type": "execute_result"
        }
      ],
      "source": [
        "df['Geography'].nunique()"
      ]
    },
    {
      "cell_type": "code",
      "execution_count": 207,
      "metadata": {
        "colab": {
          "base_uri": "https://localhost:8080/"
        },
        "id": "aapEqMd396ig",
        "outputId": "ea8833f5-af46-48fc-baec-05ec06078e07"
      },
      "outputs": [
        {
          "data": {
            "text/plain": [
              "array(['France', 'Spain', 'Germany'], dtype=object)"
            ]
          },
          "execution_count": 207,
          "metadata": {},
          "output_type": "execute_result"
        }
      ],
      "source": [
        "df['Geography'].unique()"
      ]
    },
    {
      "cell_type": "code",
      "execution_count": 208,
      "metadata": {
        "colab": {
          "base_uri": "https://localhost:8080/"
        },
        "id": "HfTsXxwX-bO-",
        "outputId": "e00c77bd-2254-4be7-90e6-8ce91e73d9af"
      },
      "outputs": [
        {
          "data": {
            "text/plain": [
              "Geography\n",
              "France     94215\n",
              "Spain      36213\n",
              "Germany    34606\n",
              "Name: count, dtype: int64"
            ]
          },
          "execution_count": 208,
          "metadata": {},
          "output_type": "execute_result"
        }
      ],
      "source": [
        "df['Geography'].value_counts()"
      ]
    },
    {
      "cell_type": "code",
      "execution_count": 209,
      "metadata": {
        "colab": {
          "base_uri": "https://localhost:8080/"
        },
        "id": "YfnlAq7h96fI",
        "outputId": "d9769a7c-3415-46b0-f228-5e445387b9c7"
      },
      "outputs": [
        {
          "data": {
            "text/plain": [
              "id                   int64\n",
              "CustomerId           int64\n",
              "Surname             object\n",
              "CreditScore          int64\n",
              "Geography           object\n",
              "Gender              object\n",
              "Age                  int64\n",
              "Tenure               int64\n",
              "Balance            float64\n",
              "NumOfProducts        int64\n",
              "HasCrCard            int64\n",
              "IsActiveMember       int64\n",
              "EstimatedSalary    float64\n",
              "Exited               int64\n",
              "dtype: object"
            ]
          },
          "execution_count": 209,
          "metadata": {},
          "output_type": "execute_result"
        }
      ],
      "source": [
        "df.dtypes"
      ]
    },
    {
      "cell_type": "markdown",
      "metadata": {
        "id": "0JDrCnuY-Jlr"
      },
      "source": [
        "**Checking For NULL values**"
      ]
    },
    {
      "cell_type": "markdown",
      "metadata": {
        "id": "W3dDwjl_-lXh"
      },
      "source": [
        "**Visualising the relationships**"
      ]
    },
    {
      "cell_type": "code",
      "execution_count": 210,
      "metadata": {
        "colab": {
          "base_uri": "https://localhost:8080/",
          "height": 449
        },
        "id": "mlDoZs-X96Zp",
        "outputId": "1b8738c5-607b-45fa-cb97-0a63e205db36"
      },
      "outputs": [
        {
          "data": {
            "image/png": "[encoded data removed]",
            "text/plain": [
              "<Figure size 640x480 with 1 Axes>"
            ]
          },
          "metadata": {},
          "output_type": "display_data"
        }
      ],
      "source": [
        "sns.countplot(data=df, x='Geography')\n",
        "plt.show()"
      ]
    },
    {
      "cell_type": "code",
      "execution_count": 211,
      "metadata": {
        "colab": {
          "base_uri": "https://localhost:8080/",
          "height": 466
        },
        "id": "H7_JuF0S96Ww",
        "outputId": "415b9ba4-4ddd-49a2-e283-aa4e17889f0b"
      },
      "outputs": [
        {
          "data": {
            "text/plain": [
              "<Axes: xlabel='Gender', ylabel='count'>"
            ]
          },
          "execution_count": 211,
          "metadata": {},
          "output_type": "execute_result"
        },
        {
          "data": {
            "image/png": "[encoded data removed]",
            "text/plain": [
              "<Figure size 640x480 with 1 Axes>"
            ]
          },
          "metadata": {},
          "output_type": "display_data"
        }
      ],
      "source": [
        "sns.countplot(data=df , x = 'Gender')"
      ]
    },
    {
      "cell_type": "code",
      "execution_count": 212,
      "metadata": {
        "colab": {
          "base_uri": "https://localhost:8080/",
          "height": 466
        },
        "id": "2T4V_odn_PFi",
        "outputId": "30b94764-8c2f-4bc6-a344-a9a9ef108a2d"
      },
      "outputs": [
        {
          "data": {
            "text/plain": [
              "<Axes: xlabel='Exited', ylabel='count'>"
            ]
          },
          "execution_count": 212,
          "metadata": {},
          "output_type": "execute_result"
        },
        {
          "data": {
            "image/png": "[encoded data removed]",
            "text/plain": [
              "<Figure size 640x480 with 1 Axes>"
            ]
          },
          "metadata": {},
          "output_type": "display_data"
        }
      ],
      "source": [
        "sns.countplot(data=df,x='Exited',hue = 'Gender')"
      ]
    },
    {
      "cell_type": "markdown",
      "metadata": {
        "id": "wec2_1wZ_afq"
      },
      "source": [
        "OUT OF 34921 PEOPLE WHO HAVE EXITED MAJORITY ARE FEMALES HERE 0->NOT EXITED AND 1->EXITED"
      ]
    },
    {
      "cell_type": "code",
      "execution_count": 213,
      "metadata": {
        "colab": {
          "base_uri": "https://localhost:8080/"
        },
        "id": "Rha9zwXf_U2L",
        "outputId": "7e1e6335-0a61-478d-efd9-baf97130f6d0"
      },
      "outputs": [
        {
          "data": {
            "text/plain": [
              "Exited\n",
              "0    130113\n",
              "1     34921\n",
              "Name: count, dtype: int64"
            ]
          },
          "execution_count": 213,
          "metadata": {},
          "output_type": "execute_result"
        }
      ],
      "source": [
        "df['Exited'].value_counts()"
      ]
    },
    {
      "cell_type": "code",
      "execution_count": 214,
      "metadata": {
        "colab": {
          "base_uri": "https://localhost:8080/",
          "height": 466
        },
        "id": "xub6qrOW_p3X",
        "outputId": "e80ab65b-3458-4359-c701-7a842b8f92fd"
      },
      "outputs": [
        {
          "data": {
            "text/plain": [
              "<Axes: xlabel='Exited', ylabel='count'>"
            ]
          },
          "execution_count": 214,
          "metadata": {},
          "output_type": "execute_result"
        },
        {
          "data": {
            "image/png": "[encoded data removed]",
            "text/plain": [
              "<Figure size 640x480 with 1 Axes>"
            ]
          },
          "metadata": {},
          "output_type": "display_data"
        }
      ],
      "source": [
        "sns.countplot(data=df,x='Exited',hue = 'IsActiveMember')"
      ]
    },
    {
      "cell_type": "markdown",
      "metadata": {
        "id": "FFcF0jDy_vgr"
      },
      "source": [
        "OUT OF ALL EXITED MEMBERS MAJORITY ARE ONES WHO ARE NOT ACTIVE"
      ]
    },
    {
      "cell_type": "code",
      "execution_count": 215,
      "metadata": {
        "colab": {
          "base_uri": "https://localhost:8080/",
          "height": 466
        },
        "id": "Esn5w1Gh_tQd",
        "outputId": "0f6e5334-bf24-45c3-b31c-f225a148bd3b"
      },
      "outputs": [
        {
          "data": {
            "text/plain": [
              "<Axes: xlabel='Tenure', ylabel='Balance'>"
            ]
          },
          "execution_count": 215,
          "metadata": {},
          "output_type": "execute_result"
        },
        {
          "data": {
            "image/png": "[encoded data removed]",
            "text/plain": [
              "<Figure size 640x480 with 1 Axes>"
            ]
          },
          "metadata": {},
          "output_type": "display_data"
        }
      ],
      "source": [
        "sns.barplot(data=df,x='Tenure',y = 'Balance')"
      ]
    },
    {
      "cell_type": "code",
      "execution_count": 216,
      "metadata": {
        "colab": {
          "base_uri": "https://localhost:8080/",
          "height": 466
        },
        "id": "hRK_Ulbk_2Ys",
        "outputId": "945d4b33-cf37-406c-b77f-01ea5e7b3ae1"
      },
      "outputs": [
        {
          "data": {
            "text/plain": [
              "<Axes: xlabel='Gender', ylabel='Balance'>"
            ]
          },
          "execution_count": 216,
          "metadata": {},
          "output_type": "execute_result"
        },
        {
          "data": {
            "image/png": "[encoded data removed]",
            "text/plain": [
              "<Figure size 640x480 with 1 Axes>"
            ]
          },
          "metadata": {},
          "output_type": "display_data"
        }
      ],
      "source": [
        "sns.barplot(data=df,x='Gender',y='Balance')"
      ]
    },
    {
      "cell_type": "markdown",
      "metadata": {
        "id": "T7YEiouGA3uT"
      },
      "source": [
        "Females have higher Balance than Men"
      ]
    },
    {
      "cell_type": "code",
      "execution_count": 217,
      "metadata": {
        "colab": {
          "base_uri": "https://localhost:8080/",
          "height": 226
        },
        "id": "FzV96GDIAz40",
        "outputId": "e324ab37-1db6-4e7d-b36e-c6a005df0f33"
      },
      "outputs": [
        {
          "data": {
            "text/html": [
              "<div>\n",
              "<style scoped>\n",
              "    .dataframe tbody tr th:only-of-type {\n",
              "        vertical-align: middle;\n",
              "    }\n",
              "\n",
              "    .dataframe tbody tr th {\n",
              "        vertical-align: top;\n",
              "    }\n",
              "\n",
              "    .dataframe thead th {\n",
              "        text-align: right;\n",
              "    }\n",
              "</style>\n",
              "<table border=\"1\" class=\"dataframe\">\n",
              "  <thead>\n",
              "    <tr style=\"text-align: right;\">\n",
              "      <th></th>\n",
              "      <th>id</th>\n",
              "      <th>CustomerId</th>\n",
              "      <th>Surname</th>\n",
              "      <th>CreditScore</th>\n",
              "      <th>Geography</th>\n",
              "      <th>Gender</th>\n",
              "      <th>Age</th>\n",
              "      <th>Tenure</th>\n",
              "      <th>Balance</th>\n",
              "      <th>NumOfProducts</th>\n",
              "      <th>HasCrCard</th>\n",
              "      <th>IsActiveMember</th>\n",
              "      <th>EstimatedSalary</th>\n",
              "      <th>Exited</th>\n",
              "    </tr>\n",
              "  </thead>\n",
              "  <tbody>\n",
              "    <tr>\n",
              "      <th>0</th>\n",
              "      <td>0</td>\n",
              "      <td>15674932</td>\n",
              "      <td>Okwudilichukwu</td>\n",
              "      <td>668</td>\n",
              "      <td>France</td>\n",
              "      <td>Male</td>\n",
              "      <td>33</td>\n",
              "      <td>3</td>\n",
              "      <td>0.00</td>\n",
              "      <td>2</td>\n",
              "      <td>1</td>\n",
              "      <td>0</td>\n",
              "      <td>181449.97</td>\n",
              "      <td>0</td>\n",
              "    </tr>\n",
              "    <tr>\n",
              "      <th>1</th>\n",
              "      <td>1</td>\n",
              "      <td>15749177</td>\n",
              "      <td>Okwudiliolisa</td>\n",
              "      <td>627</td>\n",
              "      <td>France</td>\n",
              "      <td>Male</td>\n",
              "      <td>33</td>\n",
              "      <td>1</td>\n",
              "      <td>0.00</td>\n",
              "      <td>2</td>\n",
              "      <td>1</td>\n",
              "      <td>1</td>\n",
              "      <td>49503.50</td>\n",
              "      <td>0</td>\n",
              "    </tr>\n",
              "    <tr>\n",
              "      <th>2</th>\n",
              "      <td>2</td>\n",
              "      <td>15694510</td>\n",
              "      <td>Hsueh</td>\n",
              "      <td>678</td>\n",
              "      <td>France</td>\n",
              "      <td>Male</td>\n",
              "      <td>40</td>\n",
              "      <td>10</td>\n",
              "      <td>0.00</td>\n",
              "      <td>2</td>\n",
              "      <td>1</td>\n",
              "      <td>0</td>\n",
              "      <td>184866.69</td>\n",
              "      <td>0</td>\n",
              "    </tr>\n",
              "    <tr>\n",
              "      <th>3</th>\n",
              "      <td>3</td>\n",
              "      <td>15741417</td>\n",
              "      <td>Kao</td>\n",
              "      <td>581</td>\n",
              "      <td>France</td>\n",
              "      <td>Male</td>\n",
              "      <td>34</td>\n",
              "      <td>2</td>\n",
              "      <td>148882.54</td>\n",
              "      <td>1</td>\n",
              "      <td>1</td>\n",
              "      <td>1</td>\n",
              "      <td>84560.88</td>\n",
              "      <td>0</td>\n",
              "    </tr>\n",
              "    <tr>\n",
              "      <th>4</th>\n",
              "      <td>4</td>\n",
              "      <td>15766172</td>\n",
              "      <td>Chiemenam</td>\n",
              "      <td>716</td>\n",
              "      <td>Spain</td>\n",
              "      <td>Male</td>\n",
              "      <td>33</td>\n",
              "      <td>5</td>\n",
              "      <td>0.00</td>\n",
              "      <td>2</td>\n",
              "      <td>1</td>\n",
              "      <td>1</td>\n",
              "      <td>15068.83</td>\n",
              "      <td>0</td>\n",
              "    </tr>\n",
              "  </tbody>\n",
              "</table>\n",
              "</div>"
            ],
            "text/plain": [
              "   id  CustomerId         Surname  CreditScore Geography Gender  Age  Tenure  \\\n",
              "0   0    15674932  Okwudilichukwu          668    France   Male   33       3   \n",
              "1   1    15749177   Okwudiliolisa          627    France   Male   33       1   \n",
              "2   2    15694510           Hsueh          678    France   Male   40      10   \n",
              "3   3    15741417             Kao          581    France   Male   34       2   \n",
              "4   4    15766172       Chiemenam          716     Spain   Male   33       5   \n",
              "\n",
              "     Balance  NumOfProducts  HasCrCard  IsActiveMember  EstimatedSalary  \\\n",
              "0       0.00              2          1               0        181449.97   \n",
              "1       0.00              2          1               1         49503.50   \n",
              "2       0.00              2          1               0        184866.69   \n",
              "3  148882.54              1          1               1         84560.88   \n",
              "4       0.00              2          1               1         15068.83   \n",
              "\n",
              "   Exited  \n",
              "0       0  \n",
              "1       0  \n",
              "2       0  \n",
              "3       0  \n",
              "4       0  "
            ]
          },
          "execution_count": 217,
          "metadata": {},
          "output_type": "execute_result"
        }
      ],
      "source": [
        "df.head()"
      ]
    },
    {
      "cell_type": "code",
      "execution_count": 218,
      "metadata": {
        "colab": {
          "base_uri": "https://localhost:8080/"
        },
        "id": "OfNjBUfzBiHw",
        "outputId": "696b910a-1af0-4776-b774-61e2ea6b9b51"
      },
      "outputs": [
        {
          "data": {
            "text/plain": [
              "id                   int64\n",
              "CustomerId           int64\n",
              "Surname             object\n",
              "CreditScore          int64\n",
              "Geography           object\n",
              "Gender              object\n",
              "Age                  int64\n",
              "Tenure               int64\n",
              "Balance            float64\n",
              "NumOfProducts        int64\n",
              "HasCrCard            int64\n",
              "IsActiveMember       int64\n",
              "EstimatedSalary    float64\n",
              "Exited               int64\n",
              "dtype: object"
            ]
          },
          "execution_count": 218,
          "metadata": {},
          "output_type": "execute_result"
        }
      ],
      "source": [
        "df.dtypes"
      ]
    },
    {
      "cell_type": "code",
      "execution_count": 219,
      "metadata": {
        "id": "rrZYewwr8fvG"
      },
      "outputs": [],
      "source": [
        "df.drop(['id', 'CustomerId', 'Surname'], axis=1, inplace=True)"
      ]
    },
    {
      "cell_type": "markdown",
      "metadata": {
        "id": "TyHGYLy5Fn4e"
      },
      "source": [
        "dropped the 'id' 'customerId' 'Surname' columns"
      ]
    },
    {
      "cell_type": "code",
      "execution_count": 220,
      "metadata": {
        "colab": {
          "base_uri": "https://localhost:8080/"
        },
        "id": "_CXLiC0WFmj6",
        "outputId": "5c9d2c7b-cc7a-45c5-a455-1cba62237e27"
      },
      "outputs": [
        {
          "data": {
            "text/plain": [
              "Index(['CreditScore', 'Geography', 'Gender', 'Age', 'Tenure', 'Balance',\n",
              "       'NumOfProducts', 'HasCrCard', 'IsActiveMember', 'EstimatedSalary',\n",
              "       'Exited'],\n",
              "      dtype='object')"
            ]
          },
          "execution_count": 220,
          "metadata": {},
          "output_type": "execute_result"
        }
      ],
      "source": [
        "df.columns"
      ]
    },
    {
      "cell_type": "code",
      "execution_count": 221,
      "metadata": {
        "colab": {
          "base_uri": "https://localhost:8080/",
          "height": 206
        },
        "id": "rHj_2d1eGY3m",
        "outputId": "64521cfe-9646-4750-cc5e-f333545bb15e"
      },
      "outputs": [
        {
          "data": {
            "text/html": [
              "<div>\n",
              "<style scoped>\n",
              "    .dataframe tbody tr th:only-of-type {\n",
              "        vertical-align: middle;\n",
              "    }\n",
              "\n",
              "    .dataframe tbody tr th {\n",
              "        vertical-align: top;\n",
              "    }\n",
              "\n",
              "    .dataframe thead th {\n",
              "        text-align: right;\n",
              "    }\n",
              "</style>\n",
              "<table border=\"1\" class=\"dataframe\">\n",
              "  <thead>\n",
              "    <tr style=\"text-align: right;\">\n",
              "      <th></th>\n",
              "      <th>CreditScore</th>\n",
              "      <th>Geography</th>\n",
              "      <th>Gender</th>\n",
              "      <th>Age</th>\n",
              "      <th>Tenure</th>\n",
              "      <th>Balance</th>\n",
              "      <th>NumOfProducts</th>\n",
              "      <th>HasCrCard</th>\n",
              "      <th>IsActiveMember</th>\n",
              "      <th>EstimatedSalary</th>\n",
              "      <th>Exited</th>\n",
              "    </tr>\n",
              "  </thead>\n",
              "  <tbody>\n",
              "    <tr>\n",
              "      <th>0</th>\n",
              "      <td>668</td>\n",
              "      <td>France</td>\n",
              "      <td>Male</td>\n",
              "      <td>33</td>\n",
              "      <td>3</td>\n",
              "      <td>0.00</td>\n",
              "      <td>2</td>\n",
              "      <td>1</td>\n",
              "      <td>0</td>\n",
              "      <td>181449.97</td>\n",
              "      <td>0</td>\n",
              "    </tr>\n",
              "    <tr>\n",
              "      <th>1</th>\n",
              "      <td>627</td>\n",
              "      <td>France</td>\n",
              "      <td>Male</td>\n",
              "      <td>33</td>\n",
              "      <td>1</td>\n",
              "      <td>0.00</td>\n",
              "      <td>2</td>\n",
              "      <td>1</td>\n",
              "      <td>1</td>\n",
              "      <td>49503.50</td>\n",
              "      <td>0</td>\n",
              "    </tr>\n",
              "    <tr>\n",
              "      <th>2</th>\n",
              "      <td>678</td>\n",
              "      <td>France</td>\n",
              "      <td>Male</td>\n",
              "      <td>40</td>\n",
              "      <td>10</td>\n",
              "      <td>0.00</td>\n",
              "      <td>2</td>\n",
              "      <td>1</td>\n",
              "      <td>0</td>\n",
              "      <td>184866.69</td>\n",
              "      <td>0</td>\n",
              "    </tr>\n",
              "    <tr>\n",
              "      <th>3</th>\n",
              "      <td>581</td>\n",
              "      <td>France</td>\n",
              "      <td>Male</td>\n",
              "      <td>34</td>\n",
              "      <td>2</td>\n",
              "      <td>148882.54</td>\n",
              "      <td>1</td>\n",
              "      <td>1</td>\n",
              "      <td>1</td>\n",
              "      <td>84560.88</td>\n",
              "      <td>0</td>\n",
              "    </tr>\n",
              "    <tr>\n",
              "      <th>4</th>\n",
              "      <td>716</td>\n",
              "      <td>Spain</td>\n",
              "      <td>Male</td>\n",
              "      <td>33</td>\n",
              "      <td>5</td>\n",
              "      <td>0.00</td>\n",
              "      <td>2</td>\n",
              "      <td>1</td>\n",
              "      <td>1</td>\n",
              "      <td>15068.83</td>\n",
              "      <td>0</td>\n",
              "    </tr>\n",
              "  </tbody>\n",
              "</table>\n",
              "</div>"
            ],
            "text/plain": [
              "   CreditScore Geography Gender  Age  Tenure    Balance  NumOfProducts  \\\n",
              "0          668    France   Male   33       3       0.00              2   \n",
              "1          627    France   Male   33       1       0.00              2   \n",
              "2          678    France   Male   40      10       0.00              2   \n",
              "3          581    France   Male   34       2  148882.54              1   \n",
              "4          716     Spain   Male   33       5       0.00              2   \n",
              "\n",
              "   HasCrCard  IsActiveMember  EstimatedSalary  Exited  \n",
              "0          1               0        181449.97       0  \n",
              "1          1               1         49503.50       0  \n",
              "2          1               0        184866.69       0  \n",
              "3          1               1         84560.88       0  \n",
              "4          1               1         15068.83       0  "
            ]
          },
          "execution_count": 221,
          "metadata": {},
          "output_type": "execute_result"
        }
      ],
      "source": [
        "df.head()"
      ]
    },
    {
      "cell_type": "markdown",
      "metadata": {
        "id": "-83kVTdQGmsK"
      },
      "source": [
        "**Handling categorical columns**"
      ]
    },
    {
      "cell_type": "code",
      "execution_count": 222,
      "metadata": {
        "id": "mBu9PjWbGhlq"
      },
      "outputs": [],
      "source": [
        "df_new = pd.get_dummies(data=df,drop_first=True)"
      ]
    },
    {
      "cell_type": "code",
      "execution_count": 223,
      "metadata": {
        "id": "FRHbOaoLIma_"
      },
      "outputs": [],
      "source": [
        "df_new = pd.get_dummies(df_new, columns=['HasCrCard', 'IsActiveMember'], prefix=['HasCrCard', 'IsActiveMember'],drop_first = True)"
      ]
    },
    {
      "cell_type": "code",
      "execution_count": 224,
      "metadata": {
        "colab": {
          "base_uri": "https://localhost:8080/",
          "height": 443
        },
        "id": "_HIPwT4QIor_",
        "outputId": "8c7ea8da-45fa-48b5-e69d-eb05db37c882"
      },
      "outputs": [
        {
          "data": {
            "text/html": [
              "<div>\n",
              "<style scoped>\n",
              "    .dataframe tbody tr th:only-of-type {\n",
              "        vertical-align: middle;\n",
              "    }\n",
              "\n",
              "    .dataframe tbody tr th {\n",
              "        vertical-align: top;\n",
              "    }\n",
              "\n",
              "    .dataframe thead th {\n",
              "        text-align: right;\n",
              "    }\n",
              "</style>\n",
              "<table border=\"1\" class=\"dataframe\">\n",
              "  <thead>\n",
              "    <tr style=\"text-align: right;\">\n",
              "      <th></th>\n",
              "      <th>CreditScore</th>\n",
              "      <th>Age</th>\n",
              "      <th>Tenure</th>\n",
              "      <th>Balance</th>\n",
              "      <th>NumOfProducts</th>\n",
              "      <th>EstimatedSalary</th>\n",
              "      <th>Exited</th>\n",
              "      <th>Geography_Germany</th>\n",
              "      <th>Geography_Spain</th>\n",
              "      <th>Gender_Male</th>\n",
              "      <th>HasCrCard_1</th>\n",
              "      <th>IsActiveMember_1</th>\n",
              "    </tr>\n",
              "  </thead>\n",
              "  <tbody>\n",
              "    <tr>\n",
              "      <th>0</th>\n",
              "      <td>668</td>\n",
              "      <td>33</td>\n",
              "      <td>3</td>\n",
              "      <td>0.00</td>\n",
              "      <td>2</td>\n",
              "      <td>181449.97</td>\n",
              "      <td>0</td>\n",
              "      <td>False</td>\n",
              "      <td>False</td>\n",
              "      <td>True</td>\n",
              "      <td>True</td>\n",
              "      <td>False</td>\n",
              "    </tr>\n",
              "    <tr>\n",
              "      <th>1</th>\n",
              "      <td>627</td>\n",
              "      <td>33</td>\n",
              "      <td>1</td>\n",
              "      <td>0.00</td>\n",
              "      <td>2</td>\n",
              "      <td>49503.50</td>\n",
              "      <td>0</td>\n",
              "      <td>False</td>\n",
              "      <td>False</td>\n",
              "      <td>True</td>\n",
              "      <td>True</td>\n",
              "      <td>True</td>\n",
              "    </tr>\n",
              "    <tr>\n",
              "      <th>2</th>\n",
              "      <td>678</td>\n",
              "      <td>40</td>\n",
              "      <td>10</td>\n",
              "      <td>0.00</td>\n",
              "      <td>2</td>\n",
              "      <td>184866.69</td>\n",
              "      <td>0</td>\n",
              "      <td>False</td>\n",
              "      <td>False</td>\n",
              "      <td>True</td>\n",
              "      <td>True</td>\n",
              "      <td>False</td>\n",
              "    </tr>\n",
              "    <tr>\n",
              "      <th>3</th>\n",
              "      <td>581</td>\n",
              "      <td>34</td>\n",
              "      <td>2</td>\n",
              "      <td>148882.54</td>\n",
              "      <td>1</td>\n",
              "      <td>84560.88</td>\n",
              "      <td>0</td>\n",
              "      <td>False</td>\n",
              "      <td>False</td>\n",
              "      <td>True</td>\n",
              "      <td>True</td>\n",
              "      <td>True</td>\n",
              "    </tr>\n",
              "    <tr>\n",
              "      <th>4</th>\n",
              "      <td>716</td>\n",
              "      <td>33</td>\n",
              "      <td>5</td>\n",
              "      <td>0.00</td>\n",
              "      <td>2</td>\n",
              "      <td>15068.83</td>\n",
              "      <td>0</td>\n",
              "      <td>False</td>\n",
              "      <td>True</td>\n",
              "      <td>True</td>\n",
              "      <td>True</td>\n",
              "      <td>True</td>\n",
              "    </tr>\n",
              "    <tr>\n",
              "      <th>...</th>\n",
              "      <td>...</td>\n",
              "      <td>...</td>\n",
              "      <td>...</td>\n",
              "      <td>...</td>\n",
              "      <td>...</td>\n",
              "      <td>...</td>\n",
              "      <td>...</td>\n",
              "      <td>...</td>\n",
              "      <td>...</td>\n",
              "      <td>...</td>\n",
              "      <td>...</td>\n",
              "      <td>...</td>\n",
              "    </tr>\n",
              "    <tr>\n",
              "      <th>165029</th>\n",
              "      <td>667</td>\n",
              "      <td>33</td>\n",
              "      <td>2</td>\n",
              "      <td>0.00</td>\n",
              "      <td>1</td>\n",
              "      <td>131834.75</td>\n",
              "      <td>0</td>\n",
              "      <td>False</td>\n",
              "      <td>True</td>\n",
              "      <td>False</td>\n",
              "      <td>True</td>\n",
              "      <td>True</td>\n",
              "    </tr>\n",
              "    <tr>\n",
              "      <th>165030</th>\n",
              "      <td>792</td>\n",
              "      <td>35</td>\n",
              "      <td>3</td>\n",
              "      <td>0.00</td>\n",
              "      <td>1</td>\n",
              "      <td>131834.45</td>\n",
              "      <td>0</td>\n",
              "      <td>False</td>\n",
              "      <td>False</td>\n",
              "      <td>True</td>\n",
              "      <td>False</td>\n",
              "      <td>False</td>\n",
              "    </tr>\n",
              "    <tr>\n",
              "      <th>165031</th>\n",
              "      <td>565</td>\n",
              "      <td>31</td>\n",
              "      <td>5</td>\n",
              "      <td>0.00</td>\n",
              "      <td>1</td>\n",
              "      <td>127429.56</td>\n",
              "      <td>0</td>\n",
              "      <td>False</td>\n",
              "      <td>False</td>\n",
              "      <td>True</td>\n",
              "      <td>True</td>\n",
              "      <td>True</td>\n",
              "    </tr>\n",
              "    <tr>\n",
              "      <th>165032</th>\n",
              "      <td>554</td>\n",
              "      <td>30</td>\n",
              "      <td>7</td>\n",
              "      <td>161533.00</td>\n",
              "      <td>1</td>\n",
              "      <td>71173.03</td>\n",
              "      <td>0</td>\n",
              "      <td>False</td>\n",
              "      <td>True</td>\n",
              "      <td>False</td>\n",
              "      <td>False</td>\n",
              "      <td>True</td>\n",
              "    </tr>\n",
              "    <tr>\n",
              "      <th>165033</th>\n",
              "      <td>850</td>\n",
              "      <td>31</td>\n",
              "      <td>1</td>\n",
              "      <td>0.00</td>\n",
              "      <td>1</td>\n",
              "      <td>61581.79</td>\n",
              "      <td>1</td>\n",
              "      <td>False</td>\n",
              "      <td>False</td>\n",
              "      <td>True</td>\n",
              "      <td>True</td>\n",
              "      <td>False</td>\n",
              "    </tr>\n",
              "  </tbody>\n",
              "</table>\n",
              "<p>165034 rows × 12 columns</p>\n",
              "</div>"
            ],
            "text/plain": [
              "        CreditScore  Age  Tenure    Balance  NumOfProducts  EstimatedSalary  \\\n",
              "0               668   33       3       0.00              2        181449.97   \n",
              "1               627   33       1       0.00              2         49503.50   \n",
              "2               678   40      10       0.00              2        184866.69   \n",
              "3               581   34       2  148882.54              1         84560.88   \n",
              "4               716   33       5       0.00              2         15068.83   \n",
              "...             ...  ...     ...        ...            ...              ...   \n",
              "165029          667   33       2       0.00              1        131834.75   \n",
              "165030          792   35       3       0.00              1        131834.45   \n",
              "165031          565   31       5       0.00              1        127429.56   \n",
              "165032          554   30       7  161533.00              1         71173.03   \n",
              "165033          850   31       1       0.00              1         61581.79   \n",
              "\n",
              "        Exited  Geography_Germany  Geography_Spain  Gender_Male  HasCrCard_1  \\\n",
              "0            0              False            False         True         True   \n",
              "1            0              False            False         True         True   \n",
              "2            0              False            False         True         True   \n",
              "3            0              False            False         True         True   \n",
              "4            0              False             True         True         True   \n",
              "...        ...                ...              ...          ...          ...   \n",
              "165029       0              False             True        False         True   \n",
              "165030       0              False            False         True        False   \n",
              "165031       0              False            False         True         True   \n",
              "165032       0              False             True        False        False   \n",
              "165033       1              False            False         True         True   \n",
              "\n",
              "        IsActiveMember_1  \n",
              "0                  False  \n",
              "1                   True  \n",
              "2                  False  \n",
              "3                   True  \n",
              "4                   True  \n",
              "...                  ...  \n",
              "165029              True  \n",
              "165030             False  \n",
              "165031              True  \n",
              "165032              True  \n",
              "165033             False  \n",
              "\n",
              "[165034 rows x 12 columns]"
            ]
          },
          "execution_count": 224,
          "metadata": {},
          "output_type": "execute_result"
        }
      ],
      "source": [
        "df_new"
      ]
    },
    {
      "cell_type": "code",
      "execution_count": 225,
      "metadata": {
        "id": "LrLOrHqpJPGO"
      },
      "outputs": [],
      "source": [
        "from sklearn.preprocessing import MinMaxScaler\n",
        "\n",
        "scaler = MinMaxScaler()\n",
        "df_new['Balance'] = scaler.fit_transform(df_new[['Balance']])"
      ]
    },
    {
      "cell_type": "code",
      "execution_count": 226,
      "metadata": {
        "colab": {
          "base_uri": "https://localhost:8080/",
          "height": 443
        },
        "id": "bHVA-CaTK43s",
        "outputId": "7c1b3ec1-cf28-4f41-8283-5bd9f9d602f3"
      },
      "outputs": [
        {
          "data": {
            "text/html": [
              "<div>\n",
              "<style scoped>\n",
              "    .dataframe tbody tr th:only-of-type {\n",
              "        vertical-align: middle;\n",
              "    }\n",
              "\n",
              "    .dataframe tbody tr th {\n",
              "        vertical-align: top;\n",
              "    }\n",
              "\n",
              "    .dataframe thead th {\n",
              "        text-align: right;\n",
              "    }\n",
              "</style>\n",
              "<table border=\"1\" class=\"dataframe\">\n",
              "  <thead>\n",
              "    <tr style=\"text-align: right;\">\n",
              "      <th></th>\n",
              "      <th>CreditScore</th>\n",
              "      <th>Age</th>\n",
              "      <th>Tenure</th>\n",
              "      <th>Balance</th>\n",
              "      <th>NumOfProducts</th>\n",
              "      <th>EstimatedSalary</th>\n",
              "      <th>Exited</th>\n",
              "      <th>Geography_Germany</th>\n",
              "      <th>Geography_Spain</th>\n",
              "      <th>Gender_Male</th>\n",
              "      <th>HasCrCard_1</th>\n",
              "      <th>IsActiveMember_1</th>\n",
              "    </tr>\n",
              "  </thead>\n",
              "  <tbody>\n",
              "    <tr>\n",
              "      <th>0</th>\n",
              "      <td>668</td>\n",
              "      <td>33</td>\n",
              "      <td>3</td>\n",
              "      <td>0.000000</td>\n",
              "      <td>2</td>\n",
              "      <td>181449.97</td>\n",
              "      <td>0</td>\n",
              "      <td>False</td>\n",
              "      <td>False</td>\n",
              "      <td>True</td>\n",
              "      <td>True</td>\n",
              "      <td>False</td>\n",
              "    </tr>\n",
              "    <tr>\n",
              "      <th>1</th>\n",
              "      <td>627</td>\n",
              "      <td>33</td>\n",
              "      <td>1</td>\n",
              "      <td>0.000000</td>\n",
              "      <td>2</td>\n",
              "      <td>49503.50</td>\n",
              "      <td>0</td>\n",
              "      <td>False</td>\n",
              "      <td>False</td>\n",
              "      <td>True</td>\n",
              "      <td>True</td>\n",
              "      <td>True</td>\n",
              "    </tr>\n",
              "    <tr>\n",
              "      <th>2</th>\n",
              "      <td>678</td>\n",
              "      <td>40</td>\n",
              "      <td>10</td>\n",
              "      <td>0.000000</td>\n",
              "      <td>2</td>\n",
              "      <td>184866.69</td>\n",
              "      <td>0</td>\n",
              "      <td>False</td>\n",
              "      <td>False</td>\n",
              "      <td>True</td>\n",
              "      <td>True</td>\n",
              "      <td>False</td>\n",
              "    </tr>\n",
              "    <tr>\n",
              "      <th>3</th>\n",
              "      <td>581</td>\n",
              "      <td>34</td>\n",
              "      <td>2</td>\n",
              "      <td>0.593398</td>\n",
              "      <td>1</td>\n",
              "      <td>84560.88</td>\n",
              "      <td>0</td>\n",
              "      <td>False</td>\n",
              "      <td>False</td>\n",
              "      <td>True</td>\n",
              "      <td>True</td>\n",
              "      <td>True</td>\n",
              "    </tr>\n",
              "    <tr>\n",
              "      <th>4</th>\n",
              "      <td>716</td>\n",
              "      <td>33</td>\n",
              "      <td>5</td>\n",
              "      <td>0.000000</td>\n",
              "      <td>2</td>\n",
              "      <td>15068.83</td>\n",
              "      <td>0</td>\n",
              "      <td>False</td>\n",
              "      <td>True</td>\n",
              "      <td>True</td>\n",
              "      <td>True</td>\n",
              "      <td>True</td>\n",
              "    </tr>\n",
              "    <tr>\n",
              "      <th>...</th>\n",
              "      <td>...</td>\n",
              "      <td>...</td>\n",
              "      <td>...</td>\n",
              "      <td>...</td>\n",
              "      <td>...</td>\n",
              "      <td>...</td>\n",
              "      <td>...</td>\n",
              "      <td>...</td>\n",
              "      <td>...</td>\n",
              "      <td>...</td>\n",
              "      <td>...</td>\n",
              "      <td>...</td>\n",
              "    </tr>\n",
              "    <tr>\n",
              "      <th>165029</th>\n",
              "      <td>667</td>\n",
              "      <td>33</td>\n",
              "      <td>2</td>\n",
              "      <td>0.000000</td>\n",
              "      <td>1</td>\n",
              "      <td>131834.75</td>\n",
              "      <td>0</td>\n",
              "      <td>False</td>\n",
              "      <td>True</td>\n",
              "      <td>False</td>\n",
              "      <td>True</td>\n",
              "      <td>True</td>\n",
              "    </tr>\n",
              "    <tr>\n",
              "      <th>165030</th>\n",
              "      <td>792</td>\n",
              "      <td>35</td>\n",
              "      <td>3</td>\n",
              "      <td>0.000000</td>\n",
              "      <td>1</td>\n",
              "      <td>131834.45</td>\n",
              "      <td>0</td>\n",
              "      <td>False</td>\n",
              "      <td>False</td>\n",
              "      <td>True</td>\n",
              "      <td>False</td>\n",
              "      <td>False</td>\n",
              "    </tr>\n",
              "    <tr>\n",
              "      <th>165031</th>\n",
              "      <td>565</td>\n",
              "      <td>31</td>\n",
              "      <td>5</td>\n",
              "      <td>0.000000</td>\n",
              "      <td>1</td>\n",
              "      <td>127429.56</td>\n",
              "      <td>0</td>\n",
              "      <td>False</td>\n",
              "      <td>False</td>\n",
              "      <td>True</td>\n",
              "      <td>True</td>\n",
              "      <td>True</td>\n",
              "    </tr>\n",
              "    <tr>\n",
              "      <th>165032</th>\n",
              "      <td>554</td>\n",
              "      <td>30</td>\n",
              "      <td>7</td>\n",
              "      <td>0.643819</td>\n",
              "      <td>1</td>\n",
              "      <td>71173.03</td>\n",
              "      <td>0</td>\n",
              "      <td>False</td>\n",
              "      <td>True</td>\n",
              "      <td>False</td>\n",
              "      <td>False</td>\n",
              "      <td>True</td>\n",
              "    </tr>\n",
              "    <tr>\n",
              "      <th>165033</th>\n",
              "      <td>850</td>\n",
              "      <td>31</td>\n",
              "      <td>1</td>\n",
              "      <td>0.000000</td>\n",
              "      <td>1</td>\n",
              "      <td>61581.79</td>\n",
              "      <td>1</td>\n",
              "      <td>False</td>\n",
              "      <td>False</td>\n",
              "      <td>True</td>\n",
              "      <td>True</td>\n",
              "      <td>False</td>\n",
              "    </tr>\n",
              "  </tbody>\n",
              "</table>\n",
              "<p>165034 rows × 12 columns</p>\n",
              "</div>"
            ],
            "text/plain": [
              "        CreditScore  Age  Tenure   Balance  NumOfProducts  EstimatedSalary  \\\n",
              "0               668   33       3  0.000000              2        181449.97   \n",
              "1               627   33       1  0.000000              2         49503.50   \n",
              "2               678   40      10  0.000000              2        184866.69   \n",
              "3               581   34       2  0.593398              1         84560.88   \n",
              "4               716   33       5  0.000000              2         15068.83   \n",
              "...             ...  ...     ...       ...            ...              ...   \n",
              "165029          667   33       2  0.000000              1        131834.75   \n",
              "165030          792   35       3  0.000000              1        131834.45   \n",
              "165031          565   31       5  0.000000              1        127429.56   \n",
              "165032          554   30       7  0.643819              1         71173.03   \n",
              "165033          850   31       1  0.000000              1         61581.79   \n",
              "\n",
              "        Exited  Geography_Germany  Geography_Spain  Gender_Male  HasCrCard_1  \\\n",
              "0            0              False            False         True         True   \n",
              "1            0              False            False         True         True   \n",
              "2            0              False            False         True         True   \n",
              "3            0              False            False         True         True   \n",
              "4            0              False             True         True         True   \n",
              "...        ...                ...              ...          ...          ...   \n",
              "165029       0              False             True        False         True   \n",
              "165030       0              False            False         True        False   \n",
              "165031       0              False            False         True         True   \n",
              "165032       0              False             True        False        False   \n",
              "165033       1              False            False         True         True   \n",
              "\n",
              "        IsActiveMember_1  \n",
              "0                  False  \n",
              "1                   True  \n",
              "2                  False  \n",
              "3                   True  \n",
              "4                   True  \n",
              "...                  ...  \n",
              "165029              True  \n",
              "165030             False  \n",
              "165031              True  \n",
              "165032              True  \n",
              "165033             False  \n",
              "\n",
              "[165034 rows x 12 columns]"
            ]
          },
          "execution_count": 226,
          "metadata": {},
          "output_type": "execute_result"
        }
      ],
      "source": [
        "df_new"
      ]
    },
    {
      "cell_type": "code",
      "execution_count": 227,
      "metadata": {
        "id": "DrWPngwxLLGU"
      },
      "outputs": [],
      "source": [
        "df_new['EstimatedSalary'] = scaler.fit_transform(df_new[['EstimatedSalary']])\n",
        "df_new['CreditScore'] = scaler.fit_transform(df_new[['CreditScore']])"
      ]
    },
    {
      "cell_type": "code",
      "execution_count": 228,
      "metadata": {
        "colab": {
          "base_uri": "https://localhost:8080/",
          "height": 226
        },
        "id": "BFMFjPBLLqqa",
        "outputId": "67be9495-82ae-4a36-e873-5e616c2fc9de"
      },
      "outputs": [
        {
          "data": {
            "text/html": [
              "<div>\n",
              "<style scoped>\n",
              "    .dataframe tbody tr th:only-of-type {\n",
              "        vertical-align: middle;\n",
              "    }\n",
              "\n",
              "    .dataframe tbody tr th {\n",
              "        vertical-align: top;\n",
              "    }\n",
              "\n",
              "    .dataframe thead th {\n",
              "        text-align: right;\n",
              "    }\n",
              "</style>\n",
              "<table border=\"1\" class=\"dataframe\">\n",
              "  <thead>\n",
              "    <tr style=\"text-align: right;\">\n",
              "      <th></th>\n",
              "      <th>CreditScore</th>\n",
              "      <th>Age</th>\n",
              "      <th>Tenure</th>\n",
              "      <th>Balance</th>\n",
              "      <th>NumOfProducts</th>\n",
              "      <th>EstimatedSalary</th>\n",
              "      <th>Exited</th>\n",
              "      <th>Geography_Germany</th>\n",
              "      <th>Geography_Spain</th>\n",
              "      <th>Gender_Male</th>\n",
              "      <th>HasCrCard_1</th>\n",
              "      <th>IsActiveMember_1</th>\n",
              "    </tr>\n",
              "  </thead>\n",
              "  <tbody>\n",
              "    <tr>\n",
              "      <th>0</th>\n",
              "      <td>0.636</td>\n",
              "      <td>33</td>\n",
              "      <td>3</td>\n",
              "      <td>0.000000</td>\n",
              "      <td>2</td>\n",
              "      <td>0.907279</td>\n",
              "      <td>0</td>\n",
              "      <td>False</td>\n",
              "      <td>False</td>\n",
              "      <td>True</td>\n",
              "      <td>True</td>\n",
              "      <td>False</td>\n",
              "    </tr>\n",
              "    <tr>\n",
              "      <th>1</th>\n",
              "      <td>0.554</td>\n",
              "      <td>33</td>\n",
              "      <td>1</td>\n",
              "      <td>0.000000</td>\n",
              "      <td>2</td>\n",
              "      <td>0.247483</td>\n",
              "      <td>0</td>\n",
              "      <td>False</td>\n",
              "      <td>False</td>\n",
              "      <td>True</td>\n",
              "      <td>True</td>\n",
              "      <td>True</td>\n",
              "    </tr>\n",
              "    <tr>\n",
              "      <th>2</th>\n",
              "      <td>0.656</td>\n",
              "      <td>40</td>\n",
              "      <td>10</td>\n",
              "      <td>0.000000</td>\n",
              "      <td>2</td>\n",
              "      <td>0.924364</td>\n",
              "      <td>0</td>\n",
              "      <td>False</td>\n",
              "      <td>False</td>\n",
              "      <td>True</td>\n",
              "      <td>True</td>\n",
              "      <td>False</td>\n",
              "    </tr>\n",
              "    <tr>\n",
              "      <th>3</th>\n",
              "      <td>0.462</td>\n",
              "      <td>34</td>\n",
              "      <td>2</td>\n",
              "      <td>0.593398</td>\n",
              "      <td>1</td>\n",
              "      <td>0.422787</td>\n",
              "      <td>0</td>\n",
              "      <td>False</td>\n",
              "      <td>False</td>\n",
              "      <td>True</td>\n",
              "      <td>True</td>\n",
              "      <td>True</td>\n",
              "    </tr>\n",
              "    <tr>\n",
              "      <th>4</th>\n",
              "      <td>0.732</td>\n",
              "      <td>33</td>\n",
              "      <td>5</td>\n",
              "      <td>0.000000</td>\n",
              "      <td>2</td>\n",
              "      <td>0.075293</td>\n",
              "      <td>0</td>\n",
              "      <td>False</td>\n",
              "      <td>True</td>\n",
              "      <td>True</td>\n",
              "      <td>True</td>\n",
              "      <td>True</td>\n",
              "    </tr>\n",
              "  </tbody>\n",
              "</table>\n",
              "</div>"
            ],
            "text/plain": [
              "   CreditScore  Age  Tenure   Balance  NumOfProducts  EstimatedSalary  Exited  \\\n",
              "0        0.636   33       3  0.000000              2         0.907279       0   \n",
              "1        0.554   33       1  0.000000              2         0.247483       0   \n",
              "2        0.656   40      10  0.000000              2         0.924364       0   \n",
              "3        0.462   34       2  0.593398              1         0.422787       0   \n",
              "4        0.732   33       5  0.000000              2         0.075293       0   \n",
              "\n",
              "   Geography_Germany  Geography_Spain  Gender_Male  HasCrCard_1  \\\n",
              "0              False            False         True         True   \n",
              "1              False            False         True         True   \n",
              "2              False            False         True         True   \n",
              "3              False            False         True         True   \n",
              "4              False             True         True         True   \n",
              "\n",
              "   IsActiveMember_1  \n",
              "0             False  \n",
              "1              True  \n",
              "2             False  \n",
              "3              True  \n",
              "4              True  "
            ]
          },
          "execution_count": 228,
          "metadata": {},
          "output_type": "execute_result"
        }
      ],
      "source": [
        "df_new.head()"
      ]
    },
    {
      "cell_type": "code",
      "execution_count": 229,
      "metadata": {
        "id": "WEUSDUJgLsw4"
      },
      "outputs": [],
      "source": [
        "X = df_new.drop(columns = 'Exited')\n",
        "y = df_new['Exited']"
      ]
    },
    {
      "cell_type": "code",
      "execution_count": 230,
      "metadata": {
        "id": "p9XkSkQmM3SE"
      },
      "outputs": [],
      "source": [
        "from sklearn.model_selection import train_test_split\n",
        "X_train, X_test, y_train, y_test = train_test_split(X, y, test_size=0.2, random_state=42)\n",
        "\n"
      ]
    },
    {
      "cell_type": "code",
      "execution_count": 231,
      "metadata": {
        "colab": {
          "base_uri": "https://localhost:8080/"
        },
        "id": "Ps3esj2fObJ7",
        "outputId": "ee124f1d-e8a3-400c-f889-c2198b6c2a12"
      },
      "outputs": [
        {
          "data": {
            "text/plain": [
              "(33007, 11)"
            ]
          },
          "execution_count": 231,
          "metadata": {},
          "output_type": "execute_result"
        }
      ],
      "source": [
        "X_test.shape"
      ]
    },
    {
      "cell_type": "code",
      "execution_count": 232,
      "metadata": {
        "id": "KorJRmuLOxg9"
      },
      "outputs": [],
      "source": [
        "from sklearn.preprocessing import StandardScaler\n",
        "scaler = StandardScaler()\n",
        "X_train= scaler.fit_transform(X_train)\n",
        "X_test= scaler.transform(X_test)"
      ]
    },
    {
      "cell_type": "code",
      "execution_count": 233,
      "metadata": {
        "colab": {
          "base_uri": "https://localhost:8080/"
        },
        "id": "wQbFk0ZuPBAR",
        "outputId": "4066e20d-27c6-4373-811c-3ca682f2b50f"
      },
      "outputs": [
        {
          "data": {
            "text/plain": [
              "array([[ 0.2775534 ,  0.32458671,  1.41649004, ...,  0.87903241,\n",
              "         0.57144077,  1.00541507],\n",
              "       [ 0.80227227,  0.88829916,  1.41649004, ...,  0.87903241,\n",
              "         0.57144077, -0.99461409],\n",
              "       [-1.32158984, -0.35186823, -0.0077698 , ...,  0.87903241,\n",
              "         0.57144077, -0.99461409],\n",
              "       ...,\n",
              "       [ 1.20205808,  0.09910173,  0.70436012, ..., -1.13761448,\n",
              "         0.57144077, -0.99461409],\n",
              "       [ 0.35251324,  1.11378414, -0.36383476, ..., -1.13761448,\n",
              "         0.57144077,  1.00541507],\n",
              "       [ 0.12763372, -0.35186823, -1.43202963, ...,  0.87903241,\n",
              "        -1.74996264, -0.99461409]])"
            ]
          },
          "execution_count": 233,
          "metadata": {},
          "output_type": "execute_result"
        }
      ],
      "source": [
        "X_train"
      ]
    },
    {
      "cell_type": "code",
      "execution_count": 234,
      "metadata": {
        "id": "zb-IAY0APHkz"
      },
      "outputs": [],
      "source": [
        "from sklearn.linear_model import LogisticRegression\n",
        "clf = LogisticRegression(random_state=0).fit(X_train, y_train)\n"
      ]
    },
    {
      "cell_type": "code",
      "execution_count": 235,
      "metadata": {
        "id": "86EPmuSpP5k_"
      },
      "outputs": [],
      "source": [
        "\n",
        "y_pred= clf.predict(X_test)"
      ]
    },
    {
      "cell_type": "code",
      "execution_count": 236,
      "metadata": {
        "id": "mzoBzYVSP5hT"
      },
      "outputs": [],
      "source": [
        "from sklearn.metrics import accuracy_score, confusion_matrix, f1_score, precision_score, recall_score"
      ]
    },
    {
      "cell_type": "code",
      "execution_count": 237,
      "metadata": {
        "id": "ZHoi6u4oP5eQ"
      },
      "outputs": [],
      "source": [
        "acc=accuracy_score(y_test,y_pred)\n",
        "f1=f1_score(y_test,y_pred)\n",
        "prec=precision_score(y_test,y_pred)\n",
        "rec=recall_score(y_test,y_pred)"
      ]
    },
    {
      "cell_type": "code",
      "execution_count": 238,
      "metadata": {
        "colab": {
          "base_uri": "https://localhost:8080/",
          "height": 89
        },
        "id": "n3MtgmgaQNzD",
        "outputId": "4b1fea28-6ced-4e6b-8e1a-a0a80aafc03d"
      },
      "outputs": [
        {
          "data": {
            "text/html": [
              "<div>\n",
              "<style scoped>\n",
              "    .dataframe tbody tr th:only-of-type {\n",
              "        vertical-align: middle;\n",
              "    }\n",
              "\n",
              "    .dataframe tbody tr th {\n",
              "        vertical-align: top;\n",
              "    }\n",
              "\n",
              "    .dataframe thead th {\n",
              "        text-align: right;\n",
              "    }\n",
              "</style>\n",
              "<table border=\"1\" class=\"dataframe\">\n",
              "  <thead>\n",
              "    <tr style=\"text-align: right;\">\n",
              "      <th></th>\n",
              "      <th>Model</th>\n",
              "      <th>Accuracy</th>\n",
              "      <th>F1</th>\n",
              "      <th>Precision</th>\n",
              "      <th>Recall</th>\n",
              "    </tr>\n",
              "  </thead>\n",
              "  <tbody>\n",
              "    <tr>\n",
              "      <th>0</th>\n",
              "      <td>Logistic regression</td>\n",
              "      <td>0.835459</td>\n",
              "      <td>0.498754</td>\n",
              "      <td>0.696392</td>\n",
              "      <td>0.388497</td>\n",
              "    </tr>\n",
              "  </tbody>\n",
              "</table>\n",
              "</div>"
            ],
            "text/plain": [
              "                 Model  Accuracy        F1  Precision    Recall\n",
              "0  Logistic regression  0.835459  0.498754   0.696392  0.388497"
            ]
          },
          "execution_count": 238,
          "metadata": {},
          "output_type": "execute_result"
        }
      ],
      "source": [
        "\n",
        "results=pd.DataFrame([['Logistic regression',acc,f1,prec,rec]],columns=['Model','Accuracy','F1','Precision','Recall'])\n",
        "results"
      ]
    },
    {
      "cell_type": "code",
      "execution_count": 239,
      "metadata": {
        "colab": {
          "base_uri": "https://localhost:8080/"
        },
        "id": "PqzPziTuQRdA",
        "outputId": "b059214f-3784-4e80-f6b5-77680b12becf"
      },
      "outputs": [
        {
          "name": "stdout",
          "output_type": "stream",
          "text": [
            "[[24874  1178]\n",
            " [ 4253  2702]]\n"
          ]
        }
      ],
      "source": [
        "print(confusion_matrix(y_test,y_pred))\n",
        "# TP FN\n",
        "# FP TN"
      ]
    },
    {
      "cell_type": "markdown",
      "metadata": {
        "id": "Z21xsH6LV_dj"
      },
      "source": [
        "![image.png](data:image/png;base64,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)"
      ]
    },
    {
      "cell_type": "markdown",
      "metadata": {
        "id": "21YyHFo4Qlol"
      },
      "source": [
        "using Random forest"
      ]
    },
    {
      "cell_type": "code",
      "execution_count": 240,
      "metadata": {
        "colab": {
          "base_uri": "https://localhost:8080/",
          "height": 112
        },
        "id": "WAUdRJ80QaMj",
        "outputId": "79dcff17-cb2e-44a8-acf3-0a22f83b49f8"
      },
      "outputs": [
        {
          "name": "stdout",
          "output_type": "stream",
          "text": [
            "                      Model  Accuracy        F1  Precision    Recall\n",
            "0  Random Forest Classifier   0.85906  0.618689   0.719542  0.542631\n"
          ]
        }
      ],
      "source": [
        "from sklearn.ensemble import RandomForestClassifier\n",
        "from sklearn.metrics import accuracy_score, f1_score, precision_score, recall_score\n",
        "\n",
        "# Assuming X_train, X_test, y_train, y_test are already defined\n",
        "clf = RandomForestClassifier(random_state=0).fit(X_train, y_train)\n",
        "y_pred = clf.predict(X_test)\n",
        "\n",
        "acc = accuracy_score(y_test, y_pred)\n",
        "f1 = f1_score(y_test, y_pred)\n",
        "prec = precision_score(y_test, y_pred)\n",
        "rec = recall_score(y_test, y_pred)\n",
        "\n",
        "RF_results = pd.DataFrame(\n",
        "    [['Random Forest Classifier', acc, f1, prec, rec]],\n",
        "    columns=['Model', 'Accuracy', 'F1', 'Precision', 'Recall']\n",
        ")\n",
        "\n",
        "print(RF_results)\n"
      ]
    },
    {
      "cell_type": "code",
      "execution_count": 241,
      "metadata": {
        "colab": {
          "base_uri": "https://localhost:8080/",
          "height": 226
        },
        "id": "J9St8K7yQvej",
        "outputId": "f5b7e25b-7ac7-47de-a885-0fe79d0ae3b7"
      },
      "outputs": [
        {
          "data": {
            "text/html": [
              "<div>\n",
              "<style scoped>\n",
              "    .dataframe tbody tr th:only-of-type {\n",
              "        vertical-align: middle;\n",
              "    }\n",
              "\n",
              "    .dataframe tbody tr th {\n",
              "        vertical-align: top;\n",
              "    }\n",
              "\n",
              "    .dataframe thead th {\n",
              "        text-align: right;\n",
              "    }\n",
              "</style>\n",
              "<table border=\"1\" class=\"dataframe\">\n",
              "  <thead>\n",
              "    <tr style=\"text-align: right;\">\n",
              "      <th></th>\n",
              "      <th>CreditScore</th>\n",
              "      <th>Age</th>\n",
              "      <th>Tenure</th>\n",
              "      <th>Balance</th>\n",
              "      <th>NumOfProducts</th>\n",
              "      <th>EstimatedSalary</th>\n",
              "      <th>Exited</th>\n",
              "      <th>Geography_Germany</th>\n",
              "      <th>Geography_Spain</th>\n",
              "      <th>Gender_Male</th>\n",
              "      <th>HasCrCard_1</th>\n",
              "      <th>IsActiveMember_1</th>\n",
              "    </tr>\n",
              "  </thead>\n",
              "  <tbody>\n",
              "    <tr>\n",
              "      <th>165029</th>\n",
              "      <td>0.634</td>\n",
              "      <td>33</td>\n",
              "      <td>2</td>\n",
              "      <td>0.000000</td>\n",
              "      <td>1</td>\n",
              "      <td>0.659179</td>\n",
              "      <td>0</td>\n",
              "      <td>False</td>\n",
              "      <td>True</td>\n",
              "      <td>False</td>\n",
              "      <td>True</td>\n",
              "      <td>True</td>\n",
              "    </tr>\n",
              "    <tr>\n",
              "      <th>165030</th>\n",
              "      <td>0.884</td>\n",
              "      <td>35</td>\n",
              "      <td>3</td>\n",
              "      <td>0.000000</td>\n",
              "      <td>1</td>\n",
              "      <td>0.659177</td>\n",
              "      <td>0</td>\n",
              "      <td>False</td>\n",
              "      <td>False</td>\n",
              "      <td>True</td>\n",
              "      <td>False</td>\n",
              "      <td>False</td>\n",
              "    </tr>\n",
              "    <tr>\n",
              "      <th>165031</th>\n",
              "      <td>0.430</td>\n",
              "      <td>31</td>\n",
              "      <td>5</td>\n",
              "      <td>0.000000</td>\n",
              "      <td>1</td>\n",
              "      <td>0.637151</td>\n",
              "      <td>0</td>\n",
              "      <td>False</td>\n",
              "      <td>False</td>\n",
              "      <td>True</td>\n",
              "      <td>True</td>\n",
              "      <td>True</td>\n",
              "    </tr>\n",
              "    <tr>\n",
              "      <th>165032</th>\n",
              "      <td>0.408</td>\n",
              "      <td>30</td>\n",
              "      <td>7</td>\n",
              "      <td>0.643819</td>\n",
              "      <td>1</td>\n",
              "      <td>0.355841</td>\n",
              "      <td>0</td>\n",
              "      <td>False</td>\n",
              "      <td>True</td>\n",
              "      <td>False</td>\n",
              "      <td>False</td>\n",
              "      <td>True</td>\n",
              "    </tr>\n",
              "    <tr>\n",
              "      <th>165033</th>\n",
              "      <td>1.000</td>\n",
              "      <td>31</td>\n",
              "      <td>1</td>\n",
              "      <td>0.000000</td>\n",
              "      <td>1</td>\n",
              "      <td>0.307880</td>\n",
              "      <td>1</td>\n",
              "      <td>False</td>\n",
              "      <td>False</td>\n",
              "      <td>True</td>\n",
              "      <td>True</td>\n",
              "      <td>False</td>\n",
              "    </tr>\n",
              "  </tbody>\n",
              "</table>\n",
              "</div>"
            ],
            "text/plain": [
              "        CreditScore  Age  Tenure   Balance  NumOfProducts  EstimatedSalary  \\\n",
              "165029        0.634   33       2  0.000000              1         0.659179   \n",
              "165030        0.884   35       3  0.000000              1         0.659177   \n",
              "165031        0.430   31       5  0.000000              1         0.637151   \n",
              "165032        0.408   30       7  0.643819              1         0.355841   \n",
              "165033        1.000   31       1  0.000000              1         0.307880   \n",
              "\n",
              "        Exited  Geography_Germany  Geography_Spain  Gender_Male  HasCrCard_1  \\\n",
              "165029       0              False             True        False         True   \n",
              "165030       0              False            False         True        False   \n",
              "165031       0              False            False         True         True   \n",
              "165032       0              False             True        False        False   \n",
              "165033       1              False            False         True         True   \n",
              "\n",
              "        IsActiveMember_1  \n",
              "165029              True  \n",
              "165030             False  \n",
              "165031              True  \n",
              "165032              True  \n",
              "165033             False  "
            ]
          },
          "execution_count": 241,
          "metadata": {},
          "output_type": "execute_result"
        }
      ],
      "source": [
        "df_new.tail()"
      ]
    },
    {
      "cell_type": "code",
      "execution_count": 242,
      "metadata": {
        "colab": {
          "base_uri": "https://localhost:8080/",
          "height": 206
        },
        "id": "7gzefg7uUQSj",
        "outputId": "d25905e8-c1f1-47c6-9f5f-76bd7fa80a55"
      },
      "outputs": [
        {
          "data": {
            "text/html": [
              "<div>\n",
              "<style scoped>\n",
              "    .dataframe tbody tr th:only-of-type {\n",
              "        vertical-align: middle;\n",
              "    }\n",
              "\n",
              "    .dataframe tbody tr th {\n",
              "        vertical-align: top;\n",
              "    }\n",
              "\n",
              "    .dataframe thead th {\n",
              "        text-align: right;\n",
              "    }\n",
              "</style>\n",
              "<table border=\"1\" class=\"dataframe\">\n",
              "  <thead>\n",
              "    <tr style=\"text-align: right;\">\n",
              "      <th></th>\n",
              "      <th>CreditScore</th>\n",
              "      <th>Geography</th>\n",
              "      <th>Gender</th>\n",
              "      <th>Age</th>\n",
              "      <th>Tenure</th>\n",
              "      <th>Balance</th>\n",
              "      <th>NumOfProducts</th>\n",
              "      <th>HasCrCard</th>\n",
              "      <th>IsActiveMember</th>\n",
              "      <th>EstimatedSalary</th>\n",
              "      <th>Exited</th>\n",
              "    </tr>\n",
              "  </thead>\n",
              "  <tbody>\n",
              "    <tr>\n",
              "      <th>165029</th>\n",
              "      <td>667</td>\n",
              "      <td>Spain</td>\n",
              "      <td>Female</td>\n",
              "      <td>33</td>\n",
              "      <td>2</td>\n",
              "      <td>0.0</td>\n",
              "      <td>1</td>\n",
              "      <td>1</td>\n",
              "      <td>1</td>\n",
              "      <td>131834.75</td>\n",
              "      <td>0</td>\n",
              "    </tr>\n",
              "    <tr>\n",
              "      <th>165030</th>\n",
              "      <td>792</td>\n",
              "      <td>France</td>\n",
              "      <td>Male</td>\n",
              "      <td>35</td>\n",
              "      <td>3</td>\n",
              "      <td>0.0</td>\n",
              "      <td>1</td>\n",
              "      <td>0</td>\n",
              "      <td>0</td>\n",
              "      <td>131834.45</td>\n",
              "      <td>0</td>\n",
              "    </tr>\n",
              "    <tr>\n",
              "      <th>165031</th>\n",
              "      <td>565</td>\n",
              "      <td>France</td>\n",
              "      <td>Male</td>\n",
              "      <td>31</td>\n",
              "      <td>5</td>\n",
              "      <td>0.0</td>\n",
              "      <td>1</td>\n",
              "      <td>1</td>\n",
              "      <td>1</td>\n",
              "      <td>127429.56</td>\n",
              "      <td>0</td>\n",
              "    </tr>\n",
              "    <tr>\n",
              "      <th>165032</th>\n",
              "      <td>554</td>\n",
              "      <td>Spain</td>\n",
              "      <td>Female</td>\n",
              "      <td>30</td>\n",
              "      <td>7</td>\n",
              "      <td>161533.0</td>\n",
              "      <td>1</td>\n",
              "      <td>0</td>\n",
              "      <td>1</td>\n",
              "      <td>71173.03</td>\n",
              "      <td>0</td>\n",
              "    </tr>\n",
              "    <tr>\n",
              "      <th>165033</th>\n",
              "      <td>850</td>\n",
              "      <td>France</td>\n",
              "      <td>Male</td>\n",
              "      <td>31</td>\n",
              "      <td>1</td>\n",
              "      <td>0.0</td>\n",
              "      <td>1</td>\n",
              "      <td>1</td>\n",
              "      <td>0</td>\n",
              "      <td>61581.79</td>\n",
              "      <td>1</td>\n",
              "    </tr>\n",
              "  </tbody>\n",
              "</table>\n",
              "</div>"
            ],
            "text/plain": [
              "        CreditScore Geography  Gender  Age  Tenure   Balance  NumOfProducts  \\\n",
              "165029          667     Spain  Female   33       2       0.0              1   \n",
              "165030          792    France    Male   35       3       0.0              1   \n",
              "165031          565    France    Male   31       5       0.0              1   \n",
              "165032          554     Spain  Female   30       7  161533.0              1   \n",
              "165033          850    France    Male   31       1       0.0              1   \n",
              "\n",
              "        HasCrCard  IsActiveMember  EstimatedSalary  Exited  \n",
              "165029          1               1        131834.75       0  \n",
              "165030          0               0        131834.45       0  \n",
              "165031          1               1        127429.56       0  \n",
              "165032          0               1         71173.03       0  \n",
              "165033          1               0         61581.79       1  "
            ]
          },
          "execution_count": 242,
          "metadata": {},
          "output_type": "execute_result"
        }
      ],
      "source": [
        "df.tail()"
      ]
    },
    {
      "cell_type": "code",
      "execution_count": 243,
      "metadata": {
        "colab": {
          "base_uri": "https://localhost:8080/"
        },
        "id": "3qCh1t0SUkv8",
        "outputId": "0d581fcc-1940-4244-f6ac-f3ebe40a884d"
      },
      "outputs": [
        {
          "data": {
            "text/plain": [
              "Index(['CreditScore', 'Age', 'Tenure', 'Balance', 'NumOfProducts',\n",
              "       'EstimatedSalary', 'Exited', 'Geography_Germany', 'Geography_Spain',\n",
              "       'Gender_Male', 'HasCrCard_1', 'IsActiveMember_1'],\n",
              "      dtype='object')"
            ]
          },
          "execution_count": 243,
          "metadata": {},
          "output_type": "execute_result"
        }
      ],
      "source": [
        "df_new.columns"
      ]
    },
    {
      "cell_type": "code",
      "execution_count": 244,
      "metadata": {
        "id": "_54cXEO_RCm0"
      },
      "outputs": [],
      "source": [
        "single_obs=[[850,31,1,0,1,6111581,1,0,1,1,1]]\n",
        "ans =clf.predict(scaler.fit_transform(single_obs))"
      ]
    },
    {
      "cell_type": "code",
      "execution_count": 245,
      "metadata": {
        "colab": {
          "base_uri": "https://localhost:8080/"
        },
        "id": "5_XPj4ZyRJMr",
        "outputId": "b884fb12-48a3-436e-d758-ee39adfde37c"
      },
      "outputs": [
        {
          "name": "stdout",
          "output_type": "stream",
          "text": [
            "[0]\n"
          ]
        }
      ],
      "source": [
        "print(ans)"
      ]
    },
    {
      "cell_type": "code",
      "execution_count": 246,
      "metadata": {},
      "outputs": [],
      "source": [
        "import numpy as np\n",
        "import pickle\n",
        "from sklearn.preprocessing import StandardScaler\n",
        "from sklearn.linear_model import LogisticRegression\n",
        "from sklearn.model_selection import train_test_split\n",
        "from sklearn.metrics import accuracy_score, confusion_matrix, f1_score, precision_score, recall_score\n",
        "\n",
        "# Save the trained model to a file\n",
        "with open('bank_churn_model.pkl', 'wb') as file:\n",
        "    pickle.dump(clf, file)\n",
        "\n",
        "# Save the scaler to a file\n",
        "with open('scaler.pkl', 'wb') as file:\n",
        "    pickle.dump(scaler, file)"
      ]
    },
    {
      "cell_type": "code",
      "execution_count": 247,
      "metadata": {},
      "outputs": [
        {
          "name": "stdout",
          "output_type": "stream",
          "text": [
            "Input Data: [363, 19, 19, 94325, 2, 24474, 0, 0, 1, 1, 0]\n",
            "Processed Input Data: [[-4.870000e+02 -1.200000e+01  1.800000e+01  9.432500e+04  1.000000e+00\n",
            "  -6.087107e+06 -1.000000e+00  0.000000e+00  0.000000e+00  0.000000e+00\n",
            "  -1.000000e+00]]\n",
            "Prediction: Customer will not churn.\n"
          ]
        }
      ],
      "source": [
        "# Random Testing\n",
        "\n",
        "import numpy as np\n",
        "import pickle\n",
        "import pandas as pd\n",
        "from sklearn.preprocessing import StandardScaler\n",
        "\n",
        "# Load the pre-trained model and scaler\n",
        "loaded_model = pickle.load(open('bank_churn_model.pkl', 'rb'))\n",
        "loaded_scaler = pickle.load(open('scaler.pkl', 'rb'))\n",
        "\n",
        "# Function to preprocess input data\n",
        "def preprocess_input_data(input_data, scaler):\n",
        "    # Create a DataFrame with feature names\n",
        "    input_df = pd.DataFrame([input_data], columns=feature_names)\n",
        "\n",
        "    # Use the loaded scaler to transform the input data\n",
        "    input_data_scaled = scaler.transform(input_df.values)\n",
        "\n",
        "    return input_data_scaled\n",
        "\n",
        "# Function to predict churn\n",
        "def predict_churn(input_data):\n",
        "    prediction = loaded_model.predict(input_data)\n",
        "    return prediction\n",
        "\n",
        "# Input random values\n",
        "credit_score = np.random.randint(300, 850)\n",
        "age = np.random.randint(18, 100)\n",
        "tenure = np.random.randint(0, 20)\n",
        "balance = np.random.randint(0, 250000)\n",
        "num_of_products = np.random.randint(1, 4)\n",
        "estimated_salary = np.random.randint(0, 250000)\n",
        "\n",
        "geography = np.random.choice(['France', 'Spain', 'Germany'])\n",
        "gender = np.random.choice(['Male', 'Female'])\n",
        "\n",
        "has_cr_card = np.random.choice([0, 1])\n",
        "is_active_member = np.random.choice([0, 1])\n",
        "\n",
        "feature_names = ['CreditScore', 'Age', 'Tenure', 'Balance', 'NumOfProducts', 'EstimatedSalary',\n",
        "                 'Geography_Germany', 'Geography_Spain', 'Gender_Male', 'HasCrCard_1', 'IsActiveMember_1']\n",
        "\n",
        "input_data = [credit_score, age, tenure, balance, num_of_products, estimated_salary]\n",
        "\n",
        "if geography == 'France':\n",
        "    input_data.extend([1, 0])\n",
        "elif geography == 'Spain':\n",
        "    input_data.extend([0, 1])\n",
        "else:\n",
        "    input_data.extend([0, 0])\n",
        "\n",
        "if gender == 'Male':\n",
        "    input_data.append(1)\n",
        "else:\n",
        "    input_data.append(0)\n",
        "\n",
        "input_data.extend([has_cr_card, is_active_member])\n",
        "\n",
        "# Debugging print statements\n",
        "print(\"Input Data:\", input_data)\n",
        "\n",
        "# Preprocess input data using the loaded scaler\n",
        "input_data_processed = preprocess_input_data(input_data, loaded_scaler)\n",
        "print(\"Processed Input Data:\", input_data_processed)\n",
        "\n",
        "# Predict churn\n",
        "prediction = predict_churn(input_data_processed)\n",
        "\n",
        "# Display result\n",
        "if prediction[0] == 0:\n",
        "    result = 'Customer will not churn.'\n",
        "else:\n",
        "    result = 'Customer will churn.'\n",
        "\n",
        "print(\"Prediction:\", result)\n"
      ]
    }
  ],
  "metadata": {
    "colab": {
      "provenance": []
    },
    "kernelspec": {
      "display_name": "Python 3",
      "name": "python3"
    },
    "language_info": {
      "codemirror_mode": {
        "name": "ipython",
        "version": 3
      },
      "file_extension": ".py",
      "mimetype": "text/x-python",
      "name": "python",
      "nbconvert_exporter": "python",
      "pygments_lexer": "ipython3",
      "version": "3.12.1"
    }
  },
  "nbformat": 4,
  "nbformat_minor": 0
}
